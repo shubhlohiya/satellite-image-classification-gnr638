{
  "nbformat": 4,
  "nbformat_minor": 0,
  "metadata": {
    "accelerator": "GPU",
    "colab": {
      "name": "gnr638-kaggle-18D100020",
      "provenance": [],
      "collapsed_sections": []
    },
    "kernelspec": {
      "display_name": "Python 3",
      "name": "python3"
    }
  },
  "cells": [
    {
      "cell_type": "code",
      "metadata": {
        "id": "rs5KZzpuAWGa",
        "outputId": "2ae089c2-3153-4354-ddbb-81d6def1d134",
        "colab": {
          "base_uri": "https://localhost:8080/",
          "height": 35
        }
      },
      "source": [
        "from google.colab import drive\n",
        "drive.mount( '/content/gdrive')"
      ],
      "execution_count": 1,
      "outputs": [
        {
          "output_type": "stream",
          "text": [
            "Drive already mounted at /content/gdrive; to attempt to forcibly remount, call drive.mount(\"/content/gdrive\", force_remount=True).\n"
          ],
          "name": "stdout"
        }
      ]
    },
    {
      "cell_type": "code",
      "metadata": {
        "id": "_PcjA9-YVYgU",
        "outputId": "17694a07-3879-4b46-e794-2580546478ac",
        "colab": {
          "base_uri": "https://localhost:8080/",
          "height": 35
        }
      },
      "source": [
        "%cd gdrive/'My Drive'/GNR"
      ],
      "execution_count": 2,
      "outputs": [
        {
          "output_type": "stream",
          "text": [
            "/content/gdrive/My Drive/GNR\n"
          ],
          "name": "stdout"
        }
      ]
    },
    {
      "cell_type": "code",
      "metadata": {
        "id": "M_SiPNPYvSF5"
      },
      "source": [
        "!pip install jupyterthemes\n",
        "!pip install livelossplot"
      ],
      "execution_count": null,
      "outputs": []
    },
    {
      "cell_type": "code",
      "metadata": {
        "id": "aUrYp_g6LiDe",
        "outputId": "e65fe796-7f05-484f-cfd2-f2d1f242ed73",
        "colab": {
          "base_uri": "https://localhost:8080/",
          "height": 35
        }
      },
      "source": [
        "import numpy as np\n",
        "import seaborn as sns\n",
        "import matplotlib.pyplot as plt\n",
        "import os\n",
        "from tqdm import tqdm \n",
        "%matplotlib inline\n",
        "\n",
        "from tensorflow.keras.preprocessing.image import ImageDataGenerator\n",
        "from tensorflow.keras.layers import Dense, Input, Dropout,Flatten, Conv2D\n",
        "from tensorflow.keras.layers import BatchNormalization, Activation, MaxPooling2D, LeakyReLU, LayerNormalization\n",
        "from tensorflow.keras.models import Model, Sequential\n",
        "from tensorflow.keras.optimizers import Adam, SGD, RMSprop, Nadam\n",
        "from tensorflow.keras.callbacks import ModelCheckpoint, ReduceLROnPlateau, LearningRateScheduler\n",
        "from tensorflow.keras.utils import plot_model\n",
        "\n",
        "from IPython.display import SVG, Image\n",
        "from livelossplot import PlotLossesKeras\n",
        "from livelossplot.keras import PlotLossesCallback\n",
        "import tensorflow as tf\n",
        "print(\"Tensorflow version:\", tf.__version__)\n",
        "\n",
        "from jupyterthemes import jtplot\n",
        "jtplot.style(theme='monokai', context='notebook', ticks=True, grid=False)\n",
        "import math\n",
        "\n",
        "n_adam = Nadam(lr=3e-4, epsilon=1e-7)"
      ],
      "execution_count": 4,
      "outputs": [
        {
          "output_type": "stream",
          "text": [
            "Tensorflow version: 2.3.0\n"
          ],
          "name": "stdout"
        }
      ]
    },
    {
      "cell_type": "code",
      "metadata": {
        "id": "fp07i8O5CbgP",
        "outputId": "2c935d0b-3dd5-435c-dcb7-099cf6697ecb",
        "colab": {
          "base_uri": "https://localhost:8080/",
          "height": 1000
        }
      },
      "source": [
        "  model = Sequential()\n",
        "\n",
        "  # 1st Convolutional Layer\n",
        "  model.add(Conv2D(filters=32, input_shape=(224,224,3), kernel_size=(3,3), strides=(1,1), padding='same', kernel_initializer='he_uniform'))\n",
        "  model.add(LeakyReLU(alpha=0.1))\n",
        "  model.add(BatchNormalization())\n",
        "  # Max Pooling\n",
        "  model.add(MaxPooling2D(pool_size=(2,2), strides=(2,2), padding='valid'))\n",
        "  # model.add(Dropout(0.1))\n",
        "\n",
        "\n",
        "  # 2nd Convolutional Layer\n",
        "  model.add(Conv2D(filters=64, kernel_size=(3,3), strides=(1,1), padding='same', kernel_initializer='he_uniform'))\n",
        "  model.add(LeakyReLU(alpha=0.1))\n",
        "  model.add(BatchNormalization())\n",
        "  # Max Pooling\n",
        "  model.add(MaxPooling2D(pool_size=(2,2), strides=(2,2), padding='valid'))\n",
        "  # model.add(Dropout(0.1))\n",
        "\n",
        "  # 3rd Convolutional Layer\n",
        "  model.add(Conv2D(filters=128, kernel_size=(3,3), strides=(1,1), padding='same', kernel_initializer='he_uniform'))\n",
        "  model.add(LeakyReLU(alpha=0.1))\n",
        "  model.add(BatchNormalization())\n",
        "  # # Max Pooling\n",
        "  model.add(MaxPooling2D(pool_size=(2,2), strides=(2,2), padding='valid'))\n",
        "  # model.add(Dropout(0.1))\n",
        "\n",
        "  # 4th Convolutional Layer\n",
        "  model.add(Conv2D(filters=256, kernel_size=(3,3), strides=(1,1), padding='same', kernel_initializer='he_uniform'))\n",
        "  model.add(LeakyReLU(alpha=0.1))\n",
        "  model.add(BatchNormalization())\n",
        "  # # Max Pooling\n",
        "  model.add(MaxPooling2D(pool_size=(3,3), strides=(3,3), padding='valid'))\n",
        "  # model.add(Dropout(0.1))\n",
        "\n",
        "  # 5th Convolutional Layer\n",
        "  model.add(Conv2D(filters=512, kernel_size=(3,3), strides=(1,1), padding='same', kernel_initializer='he_uniform'))\n",
        "  model.add(BatchNormalization())\n",
        "  model.add(LeakyReLU(alpha=0.1))\n",
        "  # Max Pooling\n",
        "  model.add(MaxPooling2D(pool_size=(3,3), strides=(3,3), padding='valid'))\n",
        "  # model.add(Dropout(0.1))\n",
        "\n",
        "  # Passing it to a Fully Connected layer\n",
        "  model.add(Flatten())\n",
        "  # 1st Fully Connected Layer\n",
        "  model.add(Dense(512, kernel_initializer='he_uniform'))\n",
        "  model.add(LeakyReLU(alpha=0.05))\n",
        "  model.add(BatchNormalization())\n",
        "  model.add(Dropout(0.5))\n",
        "\n",
        "  # 2nd Fully Connected Layer\n",
        "  model.add(Dense(128, kernel_initializer='he_uniform'))\n",
        "  model.add(LeakyReLU(alpha=0.05))\n",
        "  model.add(BatchNormalization())\n",
        "  model.add(Dropout(0.5))\n",
        "\n",
        "  # Output Layer\n",
        "  model.add(Dense(7, kernel_initializer='he_uniform'))\n",
        "  model.add(Activation('softmax'))\n",
        "\n",
        "  model.summary()\n",
        "\n",
        "  # optimizer=SGD(learning_rate=0.0003)\n",
        "\n",
        "  # Compile the model\n",
        "  model.compile(loss='categorical_crossentropy', optimizer='adam', metrics=[\"accuracy\"])"
      ],
      "execution_count": 57,
      "outputs": [
        {
          "output_type": "stream",
          "text": [
            "Model: \"sequential_17\"\n",
            "_________________________________________________________________\n",
            "Layer (type)                 Output Shape              Param #   \n",
            "=================================================================\n",
            "conv2d_85 (Conv2D)           (None, 224, 224, 32)      896       \n",
            "_________________________________________________________________\n",
            "leaky_re_lu_119 (LeakyReLU)  (None, 224, 224, 32)      0         \n",
            "_________________________________________________________________\n",
            "batch_normalization_119 (Bat (None, 224, 224, 32)      128       \n",
            "_________________________________________________________________\n",
            "max_pooling2d_65 (MaxPooling (None, 112, 112, 32)      0         \n",
            "_________________________________________________________________\n",
            "conv2d_86 (Conv2D)           (None, 112, 112, 64)      18496     \n",
            "_________________________________________________________________\n",
            "leaky_re_lu_120 (LeakyReLU)  (None, 112, 112, 64)      0         \n",
            "_________________________________________________________________\n",
            "batch_normalization_120 (Bat (None, 112, 112, 64)      256       \n",
            "_________________________________________________________________\n",
            "max_pooling2d_66 (MaxPooling (None, 56, 56, 64)        0         \n",
            "_________________________________________________________________\n",
            "conv2d_87 (Conv2D)           (None, 56, 56, 128)       73856     \n",
            "_________________________________________________________________\n",
            "leaky_re_lu_121 (LeakyReLU)  (None, 56, 56, 128)       0         \n",
            "_________________________________________________________________\n",
            "batch_normalization_121 (Bat (None, 56, 56, 128)       512       \n",
            "_________________________________________________________________\n",
            "max_pooling2d_67 (MaxPooling (None, 28, 28, 128)       0         \n",
            "_________________________________________________________________\n",
            "conv2d_88 (Conv2D)           (None, 28, 28, 256)       295168    \n",
            "_________________________________________________________________\n",
            "leaky_re_lu_122 (LeakyReLU)  (None, 28, 28, 256)       0         \n",
            "_________________________________________________________________\n",
            "batch_normalization_122 (Bat (None, 28, 28, 256)       1024      \n",
            "_________________________________________________________________\n",
            "max_pooling2d_68 (MaxPooling (None, 9, 9, 256)         0         \n",
            "_________________________________________________________________\n",
            "conv2d_89 (Conv2D)           (None, 9, 9, 512)         1180160   \n",
            "_________________________________________________________________\n",
            "batch_normalization_123 (Bat (None, 9, 9, 512)         2048      \n",
            "_________________________________________________________________\n",
            "leaky_re_lu_123 (LeakyReLU)  (None, 9, 9, 512)         0         \n",
            "_________________________________________________________________\n",
            "max_pooling2d_69 (MaxPooling (None, 3, 3, 512)         0         \n",
            "_________________________________________________________________\n",
            "flatten_17 (Flatten)         (None, 4608)              0         \n",
            "_________________________________________________________________\n",
            "dense_51 (Dense)             (None, 512)               2359808   \n",
            "_________________________________________________________________\n",
            "leaky_re_lu_124 (LeakyReLU)  (None, 512)               0         \n",
            "_________________________________________________________________\n",
            "batch_normalization_124 (Bat (None, 512)               2048      \n",
            "_________________________________________________________________\n",
            "dropout_34 (Dropout)         (None, 512)               0         \n",
            "_________________________________________________________________\n",
            "dense_52 (Dense)             (None, 128)               65664     \n",
            "_________________________________________________________________\n",
            "leaky_re_lu_125 (LeakyReLU)  (None, 128)               0         \n",
            "_________________________________________________________________\n",
            "batch_normalization_125 (Bat (None, 128)               512       \n",
            "_________________________________________________________________\n",
            "dropout_35 (Dropout)         (None, 128)               0         \n",
            "_________________________________________________________________\n",
            "dense_53 (Dense)             (None, 7)                 903       \n",
            "_________________________________________________________________\n",
            "activation_17 (Activation)   (None, 7)                 0         \n",
            "=================================================================\n",
            "Total params: 4,001,479\n",
            "Trainable params: 3,998,215\n",
            "Non-trainable params: 3,264\n",
            "_________________________________________________________________\n"
          ],
          "name": "stdout"
        }
      ]
    },
    {
      "cell_type": "code",
      "metadata": {
        "id": "rbsIm88zZ8VO"
      },
      "source": [
        "# train_X, train_Y = ImageDataGenerator().flow_from_directory(\"data/train2\", target_size = (224, 224), class_mode='categorical', batch_size=7518).next()\n",
        "# test_X = ImageDataGenerator().flow_from_directory(\"data/test\", target_size = (224, 224), class_mode='categorical', batch_size=95, shuffle=False).next()[0]\n",
        "# np.save(\"data/train2_X\", train_X)\n",
        "# np.save(\"data/train2_Y\", train_Y)\n",
        "# np.save(\"data/test_X\", test_X)"
      ],
      "execution_count": null,
      "outputs": []
    },
    {
      "cell_type": "code",
      "metadata": {
        "id": "BjBJyawoS_gz"
      },
      "source": [
        "train_X, train_Y, test_X = np.load('data/train2_X.npy'), np.load('data/train2_Y.npy'), np.load('data/test_X.npy')"
      ],
      "execution_count": 6,
      "outputs": []
    },
    {
      "cell_type": "code",
      "metadata": {
        "id": "vjeaYClFEPsK",
        "outputId": "3ca35d8e-d4db-4ed6-c1ec-df25efb562b8",
        "colab": {
          "base_uri": "https://localhost:8080/",
          "height": 52
        }
      },
      "source": [
        "test_Y = np.array([5,7,7,3,7,5,2,7,7,6,7,2,5,7,7,5,2,6,4,7,7,1,4,7,4,1,7,7,6,3,2,7,5,6,1,1,7,7,1,7,7,7,2,4,7,2,6,1,3,6,6,4,3,7,1,3,5,7,7,5,7,4,3,2,7,7,7,1,5,3,7,4,7,5,3,7,2,6,3,7,1,2,2,4,6,5,7,4,3,7,4,7,6,1,7])-1\n",
        "test_Y = tf.keras.utils.to_categorical(test_Y, 7)\n",
        "\n",
        "print(test_X.shape, test_Y.shape, sep=\"\\n\")"
      ],
      "execution_count": 7,
      "outputs": [
        {
          "output_type": "stream",
          "text": [
            "(95, 224, 224, 3)\n",
            "(95, 7)\n"
          ],
          "name": "stdout"
        }
      ]
    },
    {
      "cell_type": "code",
      "metadata": {
        "id": "KorK5YbiMhNo"
      },
      "source": [
        "def preprocess_input(x):\n",
        "    x /= 255.\n",
        "    mean = [0.3794, 0.3961, 0.3725]\n",
        "    std = [0.1846, 0.1853, 0.1804]\n",
        "\n",
        "    x[..., 0] -= mean[0]\n",
        "    x[..., 1] -= mean[1]\n",
        "    x[..., 2] -= mean[2]\n",
        "\n",
        "    x[..., 0] /= std[0]\n",
        "    x[..., 1] /= std[1]\n",
        "    x[..., 2] /= std[2]\n",
        "\n",
        "    return x/2. # imagenet standard"
      ],
      "execution_count": 8,
      "outputs": []
    },
    {
      "cell_type": "code",
      "metadata": {
        "id": "swlO26W2dqFE"
      },
      "source": [
        "train_X = preprocess_input(train_X)\n",
        "test_X = preprocess_input(test_X)"
      ],
      "execution_count": 9,
      "outputs": []
    },
    {
      "cell_type": "code",
      "metadata": {
        "id": "UOXp_xNPjyYg"
      },
      "source": [
        "import imgaug as ia\n",
        "from imgaug import augmenters as iaa\n",
        "\n",
        "seq = iaa.Sequential([\n",
        "    iaa.Sometimes(0.3,iaa.GaussianBlur(sigma=(0, 0.1))),\n",
        "    iaa.Sometimes(0.5, iaa.Sharpen()),\n",
        "    iaa.PerspectiveTransform(scale=0.09)\n",
        "], random_order=True)\n",
        "\n",
        "def color_generator(batches, seq=seq):\n",
        "    while True:\n",
        "        batch_x, batch_y = next(batches)\n",
        "        _batch_x = seq.augment_images(batch_x)\n",
        "        yield (_batch_x, batch_y)"
      ],
      "execution_count": 24,
      "outputs": []
    },
    {
      "cell_type": "code",
      "metadata": {
        "id": "iNiJGbXFw7Gj"
      },
      "source": [
        "batch_size = 32\n",
        "datagen_train = ImageDataGenerator()\n",
        "train_generator = datagen_train.flow(train_X, train_Y, batch_size=batch_size)\n",
        "# train_generator = color_generator(train_generator)\n",
        "datagen_test = ImageDataGenerator()"
      ],
      "execution_count": 36,
      "outputs": []
    },
    {
      "cell_type": "code",
      "metadata": {
        "id": "AZ1cfTLwYXpL",
        "outputId": "6ab9f32f-6b3e-4410-b620-b4d4b75ca67a",
        "colab": {
          "base_uri": "https://localhost:8080/",
          "height": 734
        }
      },
      "source": [
        "epochs = 50\n",
        "steps_per_epoch = len(train_X) // batch_size\n",
        "validation_steps = len(test_X) // batch_size\n",
        "\n",
        "checkpoint = ModelCheckpoint(\"model1_weights.h5\", save_best_only = True, monitor='val_accuracy',\n",
        "                            save_weights_only=True, mode='max', verbose=1)\n",
        "\n",
        "def lr_decay(epoch):\n",
        "\tinitial_lr = 0.01\n",
        "\tdrop = 1/3\n",
        "\tepochs_drop = 10.0\n",
        "\tlr = initial_lr * math.pow(drop, math.floor((1+epoch)/epochs_drop))\n",
        "\treturn lr if not lr<0.000005 else 0.000005\n",
        "\n",
        "# reduce_lr = LearningRateScheduler(lr_decay)\n",
        "reduce_lr = ReduceLROnPlateau(monitor='val_loss', factor=0.3, patience=2, min_lr=0.00001, mode='auto')\n",
        "\n",
        "callbacks = [PlotLossesKeras(), checkpoint, reduce_lr]\n",
        "\n",
        "history = model.fit(\n",
        "    x = train_generator,\n",
        "    steps_per_epoch = steps_per_epoch,\n",
        "    epochs = epochs,\n",
        "    validation_data = datagen_test.flow(test_X, test_Y, batch_size=batch_size),\n",
        "    validation_steps=validation_steps,\n",
        "    callbacks=callbacks)"
      ],
      "execution_count": 58,
      "outputs": [
        {
          "output_type": "display_data",
          "data": {
            "image/png": "[encoded data removed]",
            "text/plain": [
              "<Figure size 864x576 with 2 Axes>"
            ]
          },
          "metadata": {
            "tags": []
          }
        },
        {
          "output_type": "stream",
          "text": [
            "accuracy\n",
            "\ttraining         \t (min:    0.851, max:    1.000, cur:    1.000)\n",
            "\tvalidation       \t (min:    0.406, max:    0.875, cur:    0.828)\n",
            "Loss\n",
            "\ttraining         \t (min:    0.001, max:    0.428, cur:    0.001)\n",
            "\tvalidation       \t (min:    0.951, max:    2.715, cur:    1.274)\n",
            "\n",
            "Epoch 00050: val_accuracy did not improve from 0.87500\n",
            "\b\b\b\b\b\b\b\b\b\b\b\b\b\b\b\b\b\b\b\b\b\b\b\b\b\b\b\b\b\b\b\b\b\b\b\b\b\b\b\b\b\b\b\b\b\b\b\b\b\b\b\b\b\b\b\b\b\b\b\b\b\b\b\b\b\b\b\b\b\b\b\b\b\b\b\b\b\b\b\b\b\b\b\b\b\b\b\b\r234/234 [==============================] - 24s 104ms/step - loss: 8.2116e-04 - accuracy: 1.0000 - val_loss: 1.2739 - val_accuracy: 0.8281\n"
          ],
          "name": "stdout"
        }
      ]
    },
    {
      "cell_type": "code",
      "metadata": {
        "id": "N16xEK9wzzWk",
        "outputId": "5a39cd49-79ff-4750-d23b-f2a3f50cf588",
        "colab": {
          "base_uri": "https://localhost:8080/",
          "height": 35
        }
      },
      "source": [
        "predictions = np.argmax(model.predict(test_X), axis=-1)\n",
        "true = np.argmax(test_Y, axis=-1)\n",
        "np.mean(predictions==true)"
      ],
      "execution_count": 65,
      "outputs": [
        {
          "output_type": "execute_result",
          "data": {
            "text/plain": [
              "0.8105263157894737"
            ]
          },
          "metadata": {
            "tags": []
          },
          "execution_count": 65
        }
      ]
    },
    {
      "cell_type": "code",
      "metadata": {
        "id": "i8g2M5VfQCpG"
      },
      "source": [
        "import pandas as pd\n",
        "columns = ['ImageID', 'Label']\n",
        "data = np.array([np.arange(1,96)+1000, (predictions+1)]).T\n",
        "df = pd.DataFrame(data = data,   \n",
        "                  columns = columns)\n",
        "df.to_csv(\"predictions.csv\", index=False)"
      ],
      "execution_count": 68,
      "outputs": []
    },
    {
      "cell_type": "code",
      "metadata": {
        "id": "cHkT46T9Ylh1"
      },
      "source": [
        "model1 = create_model()\n",
        "model1.load_weights(\"model1_weights.h5\")\n",
        "\n",
        "predictions = np.argmax(model1.predict(test_X), axis=-1)\n",
        "true = np.argmax(test_Y, axis=-1)\n",
        "np.mean(predictions==true)"
      ],
      "execution_count": null,
      "outputs": []
    },
    {
      "cell_type": "code",
      "metadata": {
        "id": "duOL5V6iXyTR"
      },
      "source": [
        "def create_model():\n",
        "  model = Sequential()\n",
        "\n",
        "  # 1st Convolutional Layer\n",
        "  model.add(Conv2D(filters=32, input_shape=(224,224,3), kernel_size=(3,3), strides=(1,1), padding='same', kernel_initializer='he_uniform'))\n",
        "  model.add(LeakyReLU(alpha=0.1))\n",
        "  model.add(BatchNormalization())\n",
        "  # Max Pooling\n",
        "  model.add(MaxPooling2D(pool_size=(2,2), strides=(2,2), padding='valid'))\n",
        "  # model.add(Dropout(0.1))\n",
        "\n",
        "\n",
        "  # 2nd Convolutional Layer\n",
        "  model.add(Conv2D(filters=64, kernel_size=(3,3), strides=(1,1), padding='same', kernel_initializer='he_uniform'))\n",
        "  model.add(LeakyReLU(alpha=0.1))\n",
        "  model.add(BatchNormalization())\n",
        "  # Max Pooling\n",
        "  model.add(MaxPooling2D(pool_size=(2,2), strides=(2,2), padding='valid'))\n",
        "  # model.add(Dropout(0.1))\n",
        "\n",
        "  # 3rd Convolutional Layer\n",
        "  model.add(Conv2D(filters=128, kernel_size=(3,3), strides=(1,1), padding='same', kernel_initializer='he_uniform'))\n",
        "  model.add(LeakyReLU(alpha=0.1))\n",
        "  model.add(BatchNormalization())\n",
        "  # # Max Pooling\n",
        "  model.add(MaxPooling2D(pool_size=(2,2), strides=(2,2), padding='valid'))\n",
        "  # model.add(Dropout(0.1))\n",
        "\n",
        "  # 4th Convolutional Layer\n",
        "  model.add(Conv2D(filters=256, kernel_size=(3,3), strides=(1,1), padding='same', kernel_initializer='he_uniform'))\n",
        "  model.add(LeakyReLU(alpha=0.1))\n",
        "  model.add(BatchNormalization())\n",
        "  # # Max Pooling\n",
        "  model.add(MaxPooling2D(pool_size=(3,3), strides=(3,3), padding='valid'))\n",
        "  # model.add(Dropout(0.1))\n",
        "\n",
        "  # 5th Convolutional Layer\n",
        "  model.add(Conv2D(filters=512, kernel_size=(3,3), strides=(1,1), padding='same', kernel_initializer='he_uniform'))\n",
        "  model.add(BatchNormalization())\n",
        "  model.add(LeakyReLU(alpha=0.1))\n",
        "  # Max Pooling\n",
        "  model.add(MaxPooling2D(pool_size=(3,3), strides=(3,3), padding='valid'))\n",
        "  # model.add(Dropout(0.1))\n",
        "\n",
        "  # Passing it to a Fully Connected layer\n",
        "  model.add(Flatten())\n",
        "  # 1st Fully Connected Layer\n",
        "  model.add(Dense(512, kernel_initializer='he_uniform'))\n",
        "  model.add(LeakyReLU(alpha=0.05))\n",
        "  model.add(BatchNormalization())\n",
        "  model.add(Dropout(0.5))\n",
        "\n",
        "  # 2nd Fully Connected Layer\n",
        "  model.add(Dense(128, kernel_initializer='he_uniform'))\n",
        "  model.add(LeakyReLU(alpha=0.05))\n",
        "  model.add(BatchNormalization())\n",
        "  model.add(Dropout(0.5))\n",
        "\n",
        "  # Output Layer\n",
        "  model.add(Dense(7, kernel_initializer='he_uniform'))\n",
        "  model.add(Activation('softmax'))\n",
        "\n",
        "  # model.summary()\n",
        "\n",
        "  # Compile the model\n",
        "  model.compile(loss='categorical_crossentropy', optimizer='adam', metrics=[\"accuracy\"])\n",
        "  return model"
      ],
      "execution_count": 64,
      "outputs": []
    },
    {
      "cell_type": "code",
      "metadata": {
        "id": "eU0-ubu7dA7f",
        "outputId": "4f23b234-d210-4e73-f6aa-a9959c90744c",
        "colab": {
          "base_uri": "https://localhost:8080/",
          "height": 139
        }
      },
      "source": [
        "from keras.preprocessing.image import array_to_img, img_to_array, load_img\n",
        "\n",
        "datagen = ImageDataGenerator(\n",
        "        # rescale=1./255,\n",
        "        horizontal_flip=True,\n",
        "        vertical_flip=True,\n",
        "        rotation_range=10,\n",
        "        shear_range=0.1,\n",
        "        zoom_range=0.2,\n",
        "        width_shift_range=0.1,\n",
        "        height_shift_range=0.1,\n",
        "        # brightness_range=[0.8,1.2],\n",
        "        fill_mode='constant'\n",
        "        )\n",
        "\n",
        "classes = ['1_basketball_court', '2_beach', '3_forest', '7_others', '4_railway', '6_swimming_pool', '5_tennis_court']\n",
        "\n",
        "for cls in classes:\n",
        "  for filename in tqdm(os.listdir(\"/content/gdrive/My Drive/GNR/data/train/\"+cls)):\n",
        "    img = load_img(\"/content/gdrive/My Drive/GNR/data/train/\"+cls+\"/\"+filename)  \n",
        "    x = img_to_array(img) \n",
        "    x = x.reshape((1,) + x.shape) \n",
        "\n",
        "    i = 0\n",
        "    limit = 10\n",
        "    if cls in ['1_basketball_court', '2_beach']:\n",
        "      limit = 15\n",
        "    for batch in datagen.flow(x, batch_size=1,\n",
        "                              save_to_dir=\"/content/gdrive/My Drive/GNR/data/train2/\"+cls, save_prefix=filename, save_format='jpeg', ):\n",
        "        i += 1\n",
        "        if i > limit:\n",
        "            break"
      ],
      "execution_count": null,
      "outputs": [
        {
          "output_type": "stream",
          "text": [
            "100%|██████████| 80/80 [00:32<00:00,  2.43it/s]\n",
            "100%|██████████| 80/80 [00:34<00:00,  2.33it/s]\n",
            "100%|██████████| 80/80 [00:26<00:00,  3.07it/s]\n",
            "100%|██████████| 80/80 [00:22<00:00,  3.50it/s]\n",
            "100%|██████████| 80/80 [00:25<00:00,  3.18it/s]\n",
            "100%|██████████| 80/80 [00:22<00:00,  3.49it/s]\n",
            "100%|██████████| 80/80 [00:25<00:00,  3.16it/s]\n"
          ],
          "name": "stderr"
        }
      ]
    },
    {
      "cell_type": "code",
      "metadata": {
        "id": "utCRUHeWJNeK",
        "outputId": "9202a253-4a40-4477-ea81-72ee259b6ca4",
        "colab": {
          "base_uri": "https://localhost:8080/",
          "height": 35
        }
      },
      "source": [
        "import shutil\n",
        "\n",
        "shutil.copytree(\"/content/gdrive/My Drive/GNR/data/train/\", \"/content/gdrive/My Drive/GNR/data/train2/\")"
      ],
      "execution_count": null,
      "outputs": [
        {
          "output_type": "execute_result",
          "data": {
            "application/vnd.google.colaboratory.intrinsic+json": {
              "type": "string"
            },
            "text/plain": [
              "'/content/gdrive/My Drive/GNR/data/train2/'"
            ]
          },
          "metadata": {
            "tags": []
          },
          "execution_count": 75
        }
      ]
    },
    {
      "cell_type": "code",
      "metadata": {
        "id": "jqCwLDctg4EQ"
      },
      "source": [
        "from sklearn.ensemble import AdaBoostRegressor, AdaBoostClassifier\n",
        "from tensorflow.keras.wrappers.scikit_learn import KerasRegressor, KerasClassifier"
      ],
      "execution_count": null,
      "outputs": []
    },
    {
      "cell_type": "code",
      "metadata": {
        "id": "Y4yeA0SCYECq"
      },
      "source": [
        "def my_model():\n",
        "  return model\n",
        "ann_estimator = KerasClassifier(build_fn= my_model, epochs=20, batch_size=32, verbose=0)"
      ],
      "execution_count": null,
      "outputs": []
    },
    {
      "cell_type": "code",
      "metadata": {
        "id": "upVR7q0Zhekz"
      },
      "source": [
        "boosted_ann = AdaBoostClassifier(base_estimator= ann_estimator)\n",
        "boosted_ann.fit(tr_X, train_Y)"
      ],
      "execution_count": null,
      "outputs": []
    }
  ]
}